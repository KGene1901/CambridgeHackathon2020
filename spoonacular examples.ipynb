{
 "cells": [
  {
   "cell_type": "code",
   "execution_count": null,
   "metadata": {},
   "outputs": [],
   "source": [
    "import spoonacular as sp\n",
    "api = sp.API(\"ec9eb3bb895e4078bb61b9e7b9cf05e7\")"
   ]
  },
  {
   "cell_type": "code",
   "execution_count": null,
   "metadata": {},
   "outputs": [],
   "source": [
    "response = api.parse_ingredients(\"cheddar cheese\")\n",
    "data = response.json()"
   ]
  },
  {
   "cell_type": "code",
   "execution_count": 9,
   "metadata": {},
   "outputs": [],
   "source": [
    "response1 = api.detect_food_in_text(\"I really want a cheeseburger.\")\n",
    "data1 = response1.json()"
   ]
  },
  {
   "cell_type": "code",
   "execution_count": 15,
   "metadata": {},
   "outputs": [],
   "source": [
    "response2 = api.get_a_random_food_joke()\n",
    "data2 = response2.json()"
   ]
  },
  {
   "cell_type": "code",
   "execution_count": 18,
   "metadata": {},
   "outputs": [
    {
     "name": "stdout",
     "output_type": "stream",
     "text": [
      "[{'id': 10072, 'original': '3 oz pork shoulder', 'originalName': 'pork shoulder', 'name': 'pork shoulder', 'amount': 3.0, 'unit': 'oz', 'unitShort': 'oz', 'unitLong': 'ounces', 'estimatedCost': {'value': 31.01, 'unit': 'US Cents'}, 'consistency': 'solid', 'shoppingListUnits': ['ounces', 'pounds'], 'aisle': 'Meat', 'image': 'pork-shoulder.png', 'meta': []}]\n"
     ]
    }
   ],
   "source": [
    "print(data)"
   ]
  },
  {
   "cell_type": "code",
   "execution_count": 11,
   "metadata": {},
   "outputs": [
    {
     "name": "stdout",
     "output_type": "stream",
     "text": [
      "{'annotations': [{'annotation': 'cheeseburger', 'tag': 'dish', 'image': 'https://spoonacular.com/menuItemImages/cheeseburger.jpg'}], 'processedInMs': 15}\n"
     ]
    }
   ],
   "source": [
    "print(data1)"
   ]
  },
  {
   "cell_type": "code",
   "execution_count": 16,
   "metadata": {},
   "outputs": [
    {
     "name": "stdout",
     "output_type": "stream",
     "text": [
      "{'text': 'Subway is definitely the healthiest fast food available because they make you get out of the car.'}\n"
     ]
    }
   ],
   "source": [
    "print(data2)"
   ]
  },
  {
   "cell_type": "code",
   "execution_count": 20,
   "metadata": {},
   "outputs": [
    {
     "name": "stdout",
     "output_type": "stream",
     "text": [
      "[{'id': 10072, 'original': '3 oz pork shoulder', 'originalName': 'pork shoulder', 'name': 'pork shoulder', 'amount': 3.0, 'unit': 'oz', 'unitShort': 'oz', 'unitLong': 'ounces', 'estimatedCost': {'value': 31.01, 'unit': 'US Cents'}, 'consistency': 'solid', 'shoppingListUnits': ['ounces', 'pounds'], 'aisle': 'Meat', 'image': 'pork-shoulder.png', 'meta': []}]\n"
     ]
    }
   ],
   "source": [
    "print(data)"
   ]
  }
 ],
 "metadata": {
  "kernelspec": {
   "display_name": "Python 3",
   "language": "python",
   "name": "python3"
  },
  "language_info": {
   "codemirror_mode": {
    "name": "ipython",
    "version": 3
   },
   "file_extension": ".py",
   "mimetype": "text/x-python",
   "name": "python",
   "nbconvert_exporter": "python",
   "pygments_lexer": "ipython3",
   "version": "3.6.5"
  }
 },
 "nbformat": 4,
 "nbformat_minor": 2
}
